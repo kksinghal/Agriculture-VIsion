{
 "cells": [
  {
   "cell_type": "code",
   "execution_count": 5,
   "id": "a681076e-5588-4df9-92bf-ddec53d3b979",
   "metadata": {},
   "outputs": [],
   "source": [
    "import os\n",
    "import numpy as np \n",
    "import matplotlib.pyplot as plt\n",
    "\n",
    "import torch\n",
    "from torch.utils.data import DataLoader\n",
    "import torch.nn.functional as F"
   ]
  },
  {
   "cell_type": "code",
   "execution_count": 6,
   "id": "4bfd2fac-0364-4649-bb26-a5ceb35ea69a",
   "metadata": {},
   "outputs": [],
   "source": [
    "#list of labels: double_plant, water, waterway, etc.\n",
    "label_names = os.listdir(\"./dataset/train/labels\")\n",
    "IMAGE_SIZE = 512"
   ]
  },
  {
   "cell_type": "code",
   "execution_count": 7,
   "id": "d87f61ea-c699-4787-84d5-be176139cfe8",
   "metadata": {},
   "outputs": [],
   "source": [
    "from dataset import dataset\n",
    "\n",
    "trainset = dataset(\"dataset/train\")\n",
    "valset = dataset(\"dataset/val\")\n"
   ]
  },
  {
   "cell_type": "code",
   "execution_count": 8,
   "id": "8e075782-0959-46d2-8157-8b9642a9cd2c",
   "metadata": {},
   "outputs": [],
   "source": [
    "batch_size = 5\n",
    "\n",
    "train_loader = DataLoader(trainset, batch_size = batch_size, shuffle=True, num_workers=2)\n",
    "val_loader = DataLoader(valset, batch_size = batch_size, shuffle=True, num_workers=2)"
   ]
  },
  {
   "cell_type": "code",
   "execution_count": 9,
   "id": "3ea13d4e-5a50-40c1-8adb-5d10c993b202",
   "metadata": {},
   "outputs": [],
   "source": [
    "device = torch.device(\"cuda\" if torch.cuda.is_available() else \"cpu\")\n",
    "from model import MyModel\n",
    "\n",
    "model = MyModel()\n",
    "model = model.to(device)"
   ]
  },
  {
   "cell_type": "code",
   "execution_count": null,
   "id": "e3600f8f-a153-43aa-af0e-fb246d7c0883",
   "metadata": {},
   "outputs": [],
   "source": [
    "from torch.utils.tensorboard import SummaryWriter\n",
    "\n",
    "image, _ = next(iter(train_loader))\n",
    "image = image.to(device)\n",
    "writer = SummaryWriter(\"logs\")\n",
    "writer.add_graph(model, image)\n",
    "\n",
    "del image"
   ]
  },
  {
   "cell_type": "code",
   "execution_count": 12,
   "id": "7937ad9b-f403-47c8-8b1a-bd78c1b5dcff",
   "metadata": {},
   "outputs": [],
   "source": [
    "loss_fn = nn.BCELoss()\n",
    "optimizer = torch.optim.SGD(model.parameters(), lr=0.01, momentum=0.9, weight_decay=1e-4)\n"
   ]
  },
  {
   "cell_type": "code",
   "execution_count": 24,
   "id": "fd467248-a187-4282-8caf-b14ad6cdc08d",
   "metadata": {},
   "outputs": [],
   "source": [
    "def train_loop(dataloader, epoch):\n",
    "    train_loss = 0\n",
    "    train_miou = 0\n",
    "    train_total = 0\n",
    "    for batch, (X, y) in enumerate(dataloader):\n",
    "\n",
    "        X, y = X.to(device), y.to(device)\n",
    "        predictions = model(X)\n",
    "        pred = [F.interpolate(pred, size=IMAGE_SIZE) for pred in predictions]\n",
    "        pred = torch.stack(pred)\n",
    "        pred = torch.mean(pred, dim=0)\n",
    "        \n",
    "        loss = loss_fn(pred, y)\n",
    "        \n",
    "        with torch.no_grad():\n",
    "            pred = torch.round(pred)\n",
    "            intersection = torch.logical_and(pred, y).sum(dim=(2,3))\n",
    "            union = torch.logical_or(pred, y).sum(dim=(2,3))\n",
    "            \n",
    "            #To make sure we are dividing by zero in case nothing is detected\n",
    "            union = torch.where(union==0, 1, union)\n",
    "            \n",
    "            train_miou += torch.sum(intersection/union) / len(label_names)\n",
    "            \n",
    "        train_loss += loss\n",
    "        train_total += len(y)\n",
    "        \n",
    "        optimizer.zero_grad()\n",
    "        loss.backward()\n",
    "        optimizer.step()\n",
    "\n",
    "        if batch%5000 == 4999:\n",
    "            val_total = 0\n",
    "            val_loss = 0\n",
    "            val_miou = 0\n",
    "            with torch.no_grad():\n",
    "                for batch, (X, y) in enumerate(val_loader):\n",
    "                    X, y = X.to(device), y.to(device)\n",
    "\n",
    "                    predictions = model(X)\n",
    "                    pred = [F.interpolate(pred, size=IMAGE_SIZE) for pred in predictions]\n",
    "                    pred = torch.stack(pred)\n",
    "                    pred = torch.mean(pred, dim=0)\n",
    "\n",
    "                    loss = loss_fn(pred, y)\n",
    "                    val_loss += loss\n",
    "                    val_total += len(y)\n",
    "\n",
    "                    pred = torch.round(pred)\n",
    "                    intersection = torch.logical_and(pred, y).sum(dim=(2,3))\n",
    "                    union = torch.logical_or(pred, y).sum(dim=(2,3))\n",
    "                    val_miou += torch.sum(intersection/union) / len(label_names)\n",
    "                \n",
    "                print(f\"Epoch: {epoch+1}, {batch+1}/{len(train_loader)}, Train Loss: {train_loss/train_total} \\\n",
    "                            , Validation Loss: {val_loss/val_total}, \\\n",
    "                            Train MIOU: {train_miou/train_total}, \\\n",
    "                            Validation MIOU: {val_miou/val_total}\")\n",
    "                \n",
    "                writer.add_scalars(\"Loss\", {\n",
    "                      \"Training\": train_loss/train_total,\n",
    "                      \"Validation\": val_loss/val_total\n",
    "                  }, epoch*len(train_loader)+ batch/batch_size )\n",
    "                \n",
    "                writer.add_scalars(\"MIOU\", {\n",
    "                      \"Training\": train_miou/train_total,\n",
    "                      \"Validation\": val_miou/val_total\n",
    "                  }, epoch*len(train_loader)+ batch/batch_size )\n",
    "\n",
    "            \n",
    "            train_loss = 0\n",
    "            train_miou = 0\n",
    "            train_total = 0\n",
    "                "
   ]
  },
  {
   "cell_type": "code",
   "execution_count": null,
   "id": "d040f066-d1bb-495e-b0c3-434c61e2f30e",
   "metadata": {},
   "outputs": [],
   "source": [
    "epochs = 100\n",
    "\n",
    "for epoch in range(epochs):\n",
    "    train_loop(train_loader, epoch)\n",
    "    torch.save(model, f\"./{epoch}.pt\")"
   ]
  },
  {
   "cell_type": "code",
   "execution_count": null,
   "id": "89d9757d-b46c-4aa0-b0e9-c6923854eb62",
   "metadata": {},
   "outputs": [],
   "source": []
  }
 ],
 "metadata": {
  "kernelspec": {
   "display_name": "Python 3",
   "language": "python",
   "name": "python3"
  },
  "language_info": {
   "codemirror_mode": {
    "name": "ipython",
    "version": 3
   },
   "file_extension": ".py",
   "mimetype": "text/x-python",
   "name": "python",
   "nbconvert_exporter": "python",
   "pygments_lexer": "ipython3",
   "version": "3.8.10"
  }
 },
 "nbformat": 4,
 "nbformat_minor": 5
}
